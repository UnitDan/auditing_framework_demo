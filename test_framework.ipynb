{
 "cells": [
  {
   "cell_type": "code",
   "execution_count": 1,
   "metadata": {},
   "outputs": [],
   "source": [
    "from main import AuditingFramework"
   ]
  },
  {
   "cell_type": "markdown",
   "metadata": {},
   "source": [
    "## 创建对象"
   ]
  },
  {
   "cell_type": "code",
   "execution_count": 2,
   "metadata": {},
   "outputs": [],
   "source": [
    "# 创建审计框架对象，确保运行过程中都在对同一个对象进行操作\n",
    "fw = AuditingFramework()"
   ]
  },
  {
   "cell_type": "markdown",
   "metadata": {},
   "source": [
    "## 基本信息"
   ]
  },
  {
   "cell_type": "code",
   "execution_count": 3,
   "metadata": {},
   "outputs": [
    {
     "data": {
      "text/plain": [
       "<bound method Module.type of MLP(\n",
       "  (fc): ModuleList(\n",
       "    (0): Linear(in_features=21, out_features=64, bias=True)\n",
       "    (1): Linear(in_features=64, out_features=64, bias=True)\n",
       "    (2): Linear(in_features=64, out_features=64, bias=True)\n",
       "    (3): Linear(in_features=64, out_features=64, bias=True)\n",
       "  )\n",
       "  (fcout): Linear(in_features=64, out_features=2, bias=True)\n",
       ")>"
      ]
     },
     "execution_count": 3,
     "metadata": {},
     "output_type": "execute_result"
    }
   ],
   "source": [
    "model = fw.get_model()\n",
    "model.type"
   ]
  },
  {
   "cell_type": "code",
   "execution_count": 4,
   "metadata": {},
   "outputs": [
    {
     "data": {
      "text/plain": [
       "{'name': 'MLP',\n",
       " 'n_layers': 4,\n",
       " 'hidden dimension': 64,\n",
       " 'optimizer': 'Adam',\n",
       " 'learning rate': 0.001}"
      ]
     },
     "execution_count": 4,
     "metadata": {},
     "output_type": "execute_result"
    }
   ],
   "source": [
    "fw.get_model_info()"
   ]
  },
  {
   "cell_type": "code",
   "execution_count": 5,
   "metadata": {},
   "outputs": [
    {
     "data": {
      "text/plain": [
       "{'name': 'adult',\n",
       " 'task': 'Predict whether income exceeds $50K/yr based on census data. Also known as \"Census Income\" dataset.',\n",
       " 'columns': ['age',\n",
       "  'capital-gain',\n",
       "  'capital-loss',\n",
       "  'education-num',\n",
       "  'hours-per-week',\n",
       "  'race_White',\n",
       "  'sex_Male',\n",
       "  'marital-status',\n",
       "  'workclass'],\n",
       " 'training set size': 36177,\n",
       " 'testing set size': 9045}"
      ]
     },
     "execution_count": 5,
     "metadata": {},
     "output_type": "execute_result"
    }
   ],
   "source": [
    "fw.get_data_info()"
   ]
  },
  {
   "cell_type": "code",
   "execution_count": 6,
   "metadata": {},
   "outputs": [
    {
     "data": {
      "text/plain": [
       "{'age': [17, 90],\n",
       " 'capital-gain': [0, 99999],\n",
       " 'capital-loss': [0, 4356],\n",
       " 'education-num': [1, 16],\n",
       " 'hours-per-week': [1, 99],\n",
       " 'race_White': [0, 1],\n",
       " 'sex_Male': [0, 1],\n",
       " 'marital-status': ['Divorced',\n",
       "  'Married-AF-spouse',\n",
       "  'Married-civ-spouse',\n",
       "  'Married-spouse-absent',\n",
       "  'Never-married',\n",
       "  'Separated',\n",
       "  'Widowed'],\n",
       " 'workclass': ['Federal-gov',\n",
       "  'Local-gov',\n",
       "  'Private',\n",
       "  'Self-emp-inc',\n",
       "  'Self-emp-not-inc',\n",
       "  'State-gov',\n",
       "  'Without-pay']}"
      ]
     },
     "execution_count": 6,
     "metadata": {},
     "output_type": "execute_result"
    }
   ],
   "source": [
    "fw.get_default_data_range()"
   ]
  },
  {
   "cell_type": "markdown",
   "metadata": {},
   "source": [
    "## 参数设定"
   ]
  },
  {
   "cell_type": "code",
   "execution_count": 7,
   "metadata": {},
   "outputs": [
    {
     "data": {
      "text/plain": [
       "21"
      ]
     },
     "execution_count": 7,
     "metadata": {},
     "output_type": "execute_result"
    }
   ],
   "source": [
    "# 设置敏感属性为“sex”或“race”\n",
    "fw.set_sensitive_attr('race')\n",
    "fw.dataset.dim_feature() # 设置敏感属性后会初始化数据集、数据加载等相关属性，这里举例展示数据维度"
   ]
  },
  {
   "cell_type": "code",
   "execution_count": 8,
   "metadata": {},
   "outputs": [
    {
     "data": {
      "text/plain": [
       "{'age': [17, 90],\n",
       " 'capital-gain': [0, 99999],\n",
       " 'capital-loss': [0, 4356],\n",
       " 'education-num': [1, 16],\n",
       " 'hours-per-week': [1, 99],\n",
       " 'race_White': [0, 1],\n",
       " 'sex_Male': [0, 1],\n",
       " 'marital-status': ['Divorced',\n",
       "  'Married-AF-spouse',\n",
       "  'Married-civ-spouse',\n",
       "  'Married-spouse-absent',\n",
       "  'Never-married',\n",
       "  'Separated',\n",
       "  'Widowed'],\n",
       " 'workclass': ['Federal-gov',\n",
       "  'Local-gov',\n",
       "  'Private',\n",
       "  'Self-emp-inc',\n",
       "  'Self-emp-not-inc',\n",
       "  'State-gov',\n",
       "  'Without-pay']}"
      ]
     },
     "execution_count": 8,
     "metadata": {},
     "output_type": "execute_result"
    }
   ],
   "source": [
    "# 设置数据范围\n",
    "user_selected_data_range = {\n",
    "    'age': [17, 90], # 默认范围以内的任意闭区间\n",
    "    'capital-gain': [0, 99999], # 默认范围以内的任意闭区间\n",
    "    'capital-loss': [0, 4356], # 默认范围以内的任意闭区间\n",
    "    'education-num': [1, 16], # 默认范围以内的任意闭区间\n",
    "    'hours-per-week': [1, 99], # 默认范围以内的任意闭区间\n",
    "    'race_White': [0, 1], # 默认范围的任意非空子集： [0]（只有女性）, [1]（只有男性）, [0, 1]（男性 & 女性）\n",
    "    'sex_Male': [0, 1], # 默认范围的任意非空子集： [0]（只有非白人），[1]（只有白人），[0, 1]（白人 & 非白人）\n",
    "    'marital-status': [\n",
    "        'Divorced',\n",
    "        'Married-AF-spouse',\n",
    "        'Married-civ-spouse',\n",
    "        'Married-spouse-absent',\n",
    "        'Never-married',\n",
    "        'Separated',\n",
    "        'Widowed'\n",
    "    ], # 默认范围的任意非空子集：如['Divorced'], 或['Married-civ-spouse', 'Married-spouse-absent', 'Never-married']\n",
    "    'workclass': [\n",
    "        'Federal-gov',\n",
    "        'Local-gov',\n",
    "        'Private',\n",
    "        'Self-emp-inc',\n",
    "        'Self-emp-not-inc',\n",
    "        'State-gov',\n",
    "        'Without-pay'\n",
    "    ] # 默认范围的任意非空子集：如['Self-emp-inc', 'Self-emp-not-inc']，或['Local-gov', 'Private']\n",
    "}\n",
    "fw.set_data_range(user_selected_data_range)\n",
    "fw.range_dict # 设置的数据范围可以通过range_dict成员变量获得"
   ]
  },
  {
   "cell_type": "code",
   "execution_count": 9,
   "metadata": {},
   "outputs": [],
   "source": [
    "# 指定个体公平指标\n",
    "\n",
    "default_eps = fw.get_default_eps() # 默认epsilon值：1e8\n",
    "# 设置个体公平的评价准则，包含两个参数，dx=‘LR’或‘Eu’，eps是一个浮点数。\n",
    "fw.set_individual_fairness_metric(dx='LR', eps=default_eps)"
   ]
  },
  {
   "cell_type": "markdown",
   "metadata": {},
   "source": [
    "## 访问模型"
   ]
  },
  {
   "cell_type": "code",
   "execution_count": 10,
   "metadata": {},
   "outputs": [
    {
     "data": {
      "text/plain": [
       "0.011759641580283642"
      ]
     },
     "execution_count": 10,
     "metadata": {},
     "output_type": "execute_result"
    }
   ],
   "source": [
    "# 随机构造一个样本访问模型\n",
    "random_sample = {\n",
    "    'age': 53,\n",
    "    'capital-gain': 76,\n",
    "    'capital-loss': 385,\n",
    "    'education-num': 3,\n",
    "    'hours-per-week': 31,\n",
    "    'race_White': 'White',\n",
    "    'sex_Male': 'Female',\n",
    "    'marital-status': 'Widowed',\n",
    "    'workclass': 'Self-emp-inc'\n",
    "}\n",
    "fw.query_model(random_sample) # 输出模型将其分类为1的概率"
   ]
  },
  {
   "cell_type": "code",
   "execution_count": 11,
   "metadata": {},
   "outputs": [
    {
     "data": {
      "text/plain": [
       "[{'age': 53,\n",
       "  'capital-gain': 4617,\n",
       "  'capital-loss': 483,\n",
       "  'education-num': 3,\n",
       "  'hours-per-week': 31,\n",
       "  'race_White': 'Others',\n",
       "  'sex_Male': 'Female',\n",
       "  'marital-status': 'Never-married',\n",
       "  'workclass': 'Private'},\n",
       " {'age': 53,\n",
       "  'capital-gain': 4617,\n",
       "  'capital-loss': 483,\n",
       "  'education-num': 3,\n",
       "  'hours-per-week': 31,\n",
       "  'race_White': 'White',\n",
       "  'sex_Male': 'Female',\n",
       "  'marital-status': 'Never-married',\n",
       "  'workclass': 'Private'}]"
      ]
     },
     "execution_count": 11,
     "metadata": {},
     "output_type": "execute_result"
    }
   ],
   "source": [
    "# 以上述随机构造的样本为起始点搜索成对不公平样本\n",
    "unfair_pair = fw.seek_unfair_pair(random_sample)\n",
    "unfair_pair"
   ]
  },
  {
   "cell_type": "code",
   "execution_count": 12,
   "metadata": {},
   "outputs": [
    {
     "data": {
      "application/vnd.jupyter.widget-view+json": {
       "model_id": "4c087e0ba537495f9d2dd56f10986007",
       "version_major": 2,
       "version_minor": 0
      },
      "text/plain": [
       "  0%|          | 0/1000 [00:00<?, ?it/s]"
      ]
     },
     "metadata": {},
     "output_type": "display_data"
    },
    {
     "name": "stdout",
     "output_type": "stream",
     "text": [
      "epoches: 61 \n",
      "\n"
     ]
    }
   ],
   "source": [
    "# 模型优化：提供给模型找到的不公平样本\n",
    "new_model = fw.optimize(fw.model, unfair_pair=unfair_pair)"
   ]
  },
  {
   "cell_type": "markdown",
   "metadata": {},
   "source": [
    "## 指标"
   ]
  },
  {
   "cell_type": "code",
   "execution_count": 13,
   "metadata": {},
   "outputs": [
    {
     "data": {
      "text/plain": [
       "tensor(0.8387)"
      ]
     },
     "execution_count": 13,
     "metadata": {},
     "output_type": "execute_result"
    }
   ],
   "source": [
    "fw.accuracy(fw.model)"
   ]
  },
  {
   "cell_type": "code",
   "execution_count": 14,
   "metadata": {},
   "outputs": [
    {
     "data": {
      "text/plain": [
       "0.4177777777777778"
      ]
     },
     "execution_count": 14,
     "metadata": {},
     "output_type": "execute_result"
    }
   ],
   "source": [
    "fw.group_fairness_metric(fw.model)"
   ]
  },
  {
   "cell_type": "code",
   "execution_count": 15,
   "metadata": {},
   "outputs": [
    {
     "data": {
      "text/plain": [
       "3.5444769859313965"
      ]
     },
     "execution_count": 15,
     "metadata": {},
     "output_type": "execute_result"
    }
   ],
   "source": [
    "fw.local_individual_fairmess_metric(fw.model, unfair_pair[0])"
   ]
  },
  {
   "cell_type": "code",
   "execution_count": 16,
   "metadata": {},
   "outputs": [
    {
     "data": {
      "text/plain": [
       "0.6772568312704563"
      ]
     },
     "execution_count": 16,
     "metadata": {},
     "output_type": "execute_result"
    }
   ],
   "source": [
    "# 初始模型的global_individual_fairness = 0.6773，这个指标计算特别慢，可以直接用这个数字\n",
    "fw.global_individual_fairness_metric(fw.model)"
   ]
  },
  {
   "cell_type": "code",
   "execution_count": 17,
   "metadata": {},
   "outputs": [
    {
     "data": {
      "text/plain": [
       "False"
      ]
     },
     "execution_count": 17,
     "metadata": {},
     "output_type": "execute_result"
    }
   ],
   "source": [
    "# 找到的样本在老模型中得到了不公平的对待\n",
    "fw.fair(fw.model, unfair_pair)"
   ]
  },
  {
   "cell_type": "code",
   "execution_count": 18,
   "metadata": {},
   "outputs": [
    {
     "data": {
      "text/plain": [
       "True"
      ]
     },
     "execution_count": 18,
     "metadata": {},
     "output_type": "execute_result"
    }
   ],
   "source": [
    "# 但是在新模型中被公平对待\n",
    "fw.fair(new_model, unfair_pair)"
   ]
  }
 ],
 "metadata": {
  "kernelspec": {
   "display_name": "torch1.9",
   "language": "python",
   "name": "python3"
  },
  "language_info": {
   "codemirror_mode": {
    "name": "ipython",
    "version": 3
   },
   "file_extension": ".py",
   "mimetype": "text/x-python",
   "name": "python",
   "nbconvert_exporter": "python",
   "pygments_lexer": "ipython3",
   "version": "3.9.18"
  }
 },
 "nbformat": 4,
 "nbformat_minor": 2
}
