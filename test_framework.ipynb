{
 "cells": [
  {
   "cell_type": "code",
   "execution_count": 1,
   "metadata": {},
   "outputs": [],
   "source": [
    "from main import AuditingFramework"
   ]
  },
  {
   "cell_type": "code",
   "execution_count": 2,
   "metadata": {},
   "outputs": [],
   "source": [
    "fw = AuditingFramework()"
   ]
  },
  {
   "cell_type": "code",
   "execution_count": 3,
   "metadata": {},
   "outputs": [
    {
     "data": {
      "text/plain": [
       "<bound method Module.type of MLP(\n",
       "  (fc): ModuleList(\n",
       "    (0): Linear(in_features=21, out_features=64, bias=True)\n",
       "    (1): Linear(in_features=64, out_features=64, bias=True)\n",
       "    (2): Linear(in_features=64, out_features=64, bias=True)\n",
       "    (3): Linear(in_features=64, out_features=64, bias=True)\n",
       "  )\n",
       "  (fcout): Linear(in_features=64, out_features=2, bias=True)\n",
       ")>"
      ]
     },
     "execution_count": 3,
     "metadata": {},
     "output_type": "execute_result"
    }
   ],
   "source": [
    "model = fw.get_model()\n",
    "model.type"
   ]
  },
  {
   "cell_type": "code",
   "execution_count": 4,
   "metadata": {},
   "outputs": [
    {
     "data": {
      "text/plain": [
       "{'name': 'MLP',\n",
       " 'n_layers': 4,\n",
       " 'hidden dimension': 64,\n",
       " 'optimizer': 'Adam',\n",
       " 'learning rate': 0.001}"
      ]
     },
     "execution_count": 4,
     "metadata": {},
     "output_type": "execute_result"
    }
   ],
   "source": [
    "fw.get_model_info()"
   ]
  },
  {
   "cell_type": "code",
   "execution_count": 5,
   "metadata": {},
   "outputs": [
    {
     "data": {
      "text/plain": [
       "{'name': 'adult',\n",
       " 'task': 'Predict whether income exceeds $50K/yr based on census data. Also known as \"Census Income\" dataset.',\n",
       " 'columns': ['age',\n",
       "  'capital-gain',\n",
       "  'capital-loss',\n",
       "  'education-num',\n",
       "  'hours-per-week',\n",
       "  'race_White',\n",
       "  'sex_Male',\n",
       "  'marital-status',\n",
       "  'workclass'],\n",
       " 'training set size': 36177,\n",
       " 'testing set size': 9045}"
      ]
     },
     "execution_count": 5,
     "metadata": {},
     "output_type": "execute_result"
    }
   ],
   "source": [
    "fw.get_data_info()"
   ]
  },
  {
   "cell_type": "code",
   "execution_count": 6,
   "metadata": {},
   "outputs": [
    {
     "data": {
      "text/plain": [
       "21"
      ]
     },
     "execution_count": 6,
     "metadata": {},
     "output_type": "execute_result"
    }
   ],
   "source": [
    "fw.set_sensitive_attr('race')\n",
    "fw.dataset.dim_feature()"
   ]
  },
  {
   "cell_type": "code",
   "execution_count": 7,
   "metadata": {},
   "outputs": [],
   "source": [
    "fw.set_individual_fairness_metric(dx='LR', eps=fw.get_default_eps())"
   ]
  },
  {
   "cell_type": "code",
   "execution_count": 8,
   "metadata": {},
   "outputs": [
    {
     "data": {
      "text/plain": [
       "[{'age': 53,\n",
       "  'capital-gain': 76822,\n",
       "  'capital-loss': 385,\n",
       "  'education-num': 3,\n",
       "  'hours-per-week': 31,\n",
       "  'race_White': 'White',\n",
       "  'sex_Male': 'Female',\n",
       "  'marital-status': 'Widowed',\n",
       "  'workclass': 'Self-emp-inc'}]"
      ]
     },
     "execution_count": 8,
     "metadata": {},
     "output_type": "execute_result"
    }
   ],
   "source": [
    "random_sample = fw._tensor2dict(fw.data_gen.gen_by_range(n=1))\n",
    "random_sample"
   ]
  },
  {
   "cell_type": "code",
   "execution_count": 9,
   "metadata": {},
   "outputs": [
    {
     "name": "stdout",
     "output_type": "stream",
     "text": [
      "   age  capital-gain  capital-loss  education-num  hours-per-week  race_White  \\\n",
      "0   53         76822           385              3              31           1   \n",
      "\n",
      "   sex_Male  marital-status  workclass  \n",
      "0         0               6          3  \n",
      "tensor([[5.3000e+01, 7.6822e+04, 3.8500e+02, 3.0000e+00, 3.1000e+01, 1.0000e+00,\n",
      "         0.0000e+00, 6.0000e+00, 3.0000e+00]])\n"
     ]
    },
    {
     "data": {
      "text/plain": [
       "tensor([[5.3000e+01, 7.6822e+04, 3.8500e+02, 3.0000e+00, 3.1000e+01, 0.0000e+00,\n",
       "         0.0000e+00, 0.0000e+00, 0.0000e+00, 0.0000e+00, 0.0000e+00, 1.0000e+00,\n",
       "         1.0000e+00, 0.0000e+00, 0.0000e+00, 0.0000e+00, 0.0000e+00, 1.0000e+00,\n",
       "         0.0000e+00, 0.0000e+00, 0.0000e+00]])"
      ]
     },
     "execution_count": 9,
     "metadata": {},
     "output_type": "execute_result"
    }
   ],
   "source": [
    "fw._dict2tensor(random_sample)"
   ]
  },
  {
   "cell_type": "code",
   "execution_count": 10,
   "metadata": {},
   "outputs": [
    {
     "name": "stdout",
     "output_type": "stream",
     "text": [
      "   age  capital-gain  capital-loss  education-num  hours-per-week  race_White  \\\n",
      "0   53         76822           385              3              31           1   \n",
      "\n",
      "   sex_Male  marital-status  workclass  \n",
      "0         0               6          3  \n",
      "tensor([[5.3000e+01, 7.6822e+04, 3.8500e+02, 3.0000e+00, 3.1000e+01, 1.0000e+00,\n",
      "         0.0000e+00, 6.0000e+00, 3.0000e+00]])\n"
     ]
    }
   ],
   "source": [
    "unfair_pair = fw.seek_unfair_pair(random_sample)"
   ]
  },
  {
   "cell_type": "code",
   "execution_count": 11,
   "metadata": {},
   "outputs": [
    {
     "data": {
      "text/plain": [
       "[{'age': 63,\n",
       "  'capital-gain': 88,\n",
       "  'capital-loss': 1787,\n",
       "  'education-num': 1,\n",
       "  'hours-per-week': 17,\n",
       "  'race_White': 'White',\n",
       "  'sex_Male': 'Female',\n",
       "  'marital-status': 'Widowed',\n",
       "  'workclass': 'Private'},\n",
       " {'age': 63,\n",
       "  'capital-gain': 87,\n",
       "  'capital-loss': 1787,\n",
       "  'education-num': 1,\n",
       "  'hours-per-week': 17,\n",
       "  'race_White': 'White',\n",
       "  'sex_Male': 'Female',\n",
       "  'marital-status': 'Widowed',\n",
       "  'workclass': 'Private'}]"
      ]
     },
     "execution_count": 11,
     "metadata": {},
     "output_type": "execute_result"
    }
   ],
   "source": [
    "unfair_pair"
   ]
  },
  {
   "cell_type": "code",
   "execution_count": 12,
   "metadata": {},
   "outputs": [
    {
     "name": "stdout",
     "output_type": "stream",
     "text": [
      "   age  capital-gain  capital-loss  education-num  hours-per-week  race_White  \\\n",
      "0   63            88          1787              1              17           1   \n",
      "1   63            87          1787              1              17           1   \n",
      "\n",
      "   sex_Male  marital-status  workclass  \n",
      "0         0               6          2  \n",
      "1         0               6          2  \n",
      "tensor([[6.3000e+01, 8.8000e+01, 1.7870e+03, 1.0000e+00, 1.7000e+01, 1.0000e+00,\n",
      "         0.0000e+00, 6.0000e+00, 2.0000e+00],\n",
      "        [6.3000e+01, 8.7000e+01, 1.7870e+03, 1.0000e+00, 1.7000e+01, 1.0000e+00,\n",
      "         0.0000e+00, 6.0000e+00, 2.0000e+00]])\n"
     ]
    },
    {
     "data": {
      "text/plain": [
       "False"
      ]
     },
     "execution_count": 12,
     "metadata": {},
     "output_type": "execute_result"
    }
   ],
   "source": [
    "fw.fair(fw.model, unfair_pair)"
   ]
  },
  {
   "cell_type": "code",
   "execution_count": 13,
   "metadata": {},
   "outputs": [
    {
     "data": {
      "text/plain": [
       "tensor(0.8387)"
      ]
     },
     "execution_count": 13,
     "metadata": {},
     "output_type": "execute_result"
    }
   ],
   "source": [
    "fw.accuracy(fw.model)"
   ]
  },
  {
   "cell_type": "code",
   "execution_count": 14,
   "metadata": {},
   "outputs": [
    {
     "data": {
      "text/plain": [
       "0.4177777777777778"
      ]
     },
     "execution_count": 14,
     "metadata": {},
     "output_type": "execute_result"
    }
   ],
   "source": [
    "fw.group_fairness_metric(fw.model)"
   ]
  },
  {
   "cell_type": "code",
   "execution_count": 15,
   "metadata": {},
   "outputs": [
    {
     "name": "stdout",
     "output_type": "stream",
     "text": [
      "   age  capital-gain  capital-loss  education-num  hours-per-week  race_White  \\\n",
      "0   63            88          1787              1              17           1   \n",
      "\n",
      "   sex_Male  marital-status  workclass  \n",
      "0         0               6          2  \n",
      "tensor([[6.3000e+01, 8.8000e+01, 1.7870e+03, 1.0000e+00, 1.7000e+01, 1.0000e+00,\n",
      "         0.0000e+00, 6.0000e+00, 2.0000e+00]])\n"
     ]
    },
    {
     "data": {
      "text/plain": [
       "tensor([[6.3000e+01, 8.8000e+01, 1.7870e+03, 1.0000e+00, 1.7000e+01, 0.0000e+00,\n",
       "         0.0000e+00, 0.0000e+00, 0.0000e+00, 0.0000e+00, 0.0000e+00, 1.0000e+00,\n",
       "         1.0000e+00, 0.0000e+00, 0.0000e+00, 0.0000e+00, 1.0000e+00, 0.0000e+00,\n",
       "         0.0000e+00, 0.0000e+00, 0.0000e+00]])"
      ]
     },
     "execution_count": 15,
     "metadata": {},
     "output_type": "execute_result"
    }
   ],
   "source": [
    "fw._dict2tensor(unfair_pair[0])"
   ]
  },
  {
   "cell_type": "code",
   "execution_count": 16,
   "metadata": {},
   "outputs": [
    {
     "data": {
      "text/plain": [
       "{'age': [17, 90],\n",
       " 'capital-gain': [0, 99999],\n",
       " 'capital-loss': [0, 4356],\n",
       " 'education-num': [1, 16],\n",
       " 'hours-per-week': [1, 99],\n",
       " 'race_White': [0, 1],\n",
       " 'sex_Male': [0, 1],\n",
       " 'marital-status': ['Divorced',\n",
       "  'Married-AF-spouse',\n",
       "  'Married-civ-spouse',\n",
       "  'Married-spouse-absent',\n",
       "  'Never-married',\n",
       "  'Separated',\n",
       "  'Widowed'],\n",
       " 'workclass': ['Federal-gov',\n",
       "  'Local-gov',\n",
       "  'Private',\n",
       "  'Self-emp-inc',\n",
       "  'Self-emp-not-inc',\n",
       "  'State-gov',\n",
       "  'Without-pay']}"
      ]
     },
     "execution_count": 16,
     "metadata": {},
     "output_type": "execute_result"
    }
   ],
   "source": [
    "fw.get_default_data_range()"
   ]
  },
  {
   "cell_type": "code",
   "execution_count": 17,
   "metadata": {},
   "outputs": [],
   "source": [
    "fw.set_data_range(\n",
    "    {'age': [17, 90],\n",
    " 'capital-gain': [0, 80000],\n",
    " 'capital-loss': [0, 4000],\n",
    " 'education-num': [1, 16],\n",
    " 'hours-per-week': [1, 99],\n",
    " 'race_White': [0, 1],\n",
    " 'sex_Male': [0, 1],\n",
    " 'marital-status': ['Divorced',\n",
    "  'Married-AF-spouse',\n",
    "  'Widowed'],\n",
    " 'workclass': ['Federal-gov',\n",
    "  'State-gov',\n",
    "  'Without-pay']}\n",
    ")"
   ]
  },
  {
   "cell_type": "code",
   "execution_count": 18,
   "metadata": {},
   "outputs": [
    {
     "name": "stdout",
     "output_type": "stream",
     "text": [
      "   age  capital-gain  capital-loss  education-num  hours-per-week  race_White  \\\n",
      "0   53         76822           385              3              31           1   \n",
      "\n",
      "   sex_Male  marital-status  workclass  \n",
      "0         0               6          5  \n",
      "tensor([[5.3000e+01, 7.6822e+04, 3.8500e+02, 3.0000e+00, 3.1000e+01, 1.0000e+00,\n",
      "         0.0000e+00, 6.0000e+00, 5.0000e+00]])\n"
     ]
    },
    {
     "data": {
      "text/plain": [
       "[{'age': 80,\n",
       "  'capital-gain': 137,\n",
       "  'capital-loss': 1767,\n",
       "  'education-num': 11,\n",
       "  'hours-per-week': 24,\n",
       "  'race_White': 'Others',\n",
       "  'sex_Male': 'Female',\n",
       "  'marital-status': 'Divorced',\n",
       "  'workclass': 'Without-pay'},\n",
       " {'age': 80,\n",
       "  'capital-gain': 137,\n",
       "  'capital-loss': 1767,\n",
       "  'education-num': 11,\n",
       "  'hours-per-week': 24,\n",
       "  'race_White': 'White',\n",
       "  'sex_Male': 'Female',\n",
       "  'marital-status': 'Divorced',\n",
       "  'workclass': 'Without-pay'}]"
      ]
     },
     "execution_count": 18,
     "metadata": {},
     "output_type": "execute_result"
    }
   ],
   "source": [
    "init_sample = [{'age': 53,\n",
    "  'capital-gain': 76822,\n",
    "  'capital-loss': 385,\n",
    "  'education-num': 3,\n",
    "  'hours-per-week': 31,\n",
    "  'race_White': 1,\n",
    "  'sex_Male': 0,\n",
    "  'marital-status': 'Widowed',\n",
    "  'workclass': 'State-gov',\n",
    "  'race': 'White',\n",
    "  'sex': 'Female'}]\n",
    "fw.seek_unfair_pair(init_sample)"
   ]
  },
  {
   "cell_type": "code",
   "execution_count": null,
   "metadata": {},
   "outputs": [],
   "source": []
  }
 ],
 "metadata": {
  "kernelspec": {
   "display_name": "torch1.9",
   "language": "python",
   "name": "python3"
  },
  "language_info": {
   "codemirror_mode": {
    "name": "ipython",
    "version": 3
   },
   "file_extension": ".py",
   "mimetype": "text/x-python",
   "name": "python",
   "nbconvert_exporter": "python",
   "pygments_lexer": "ipython3",
   "version": "3.9.18"
  }
 },
 "nbformat": 4,
 "nbformat_minor": 2
}
